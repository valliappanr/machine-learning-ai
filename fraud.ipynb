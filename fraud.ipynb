{
 "cells": [
  {
   "cell_type": "code",
   "execution_count": 1,
   "metadata": {},
   "outputs": [
    {
     "name": "stderr",
     "output_type": "stream",
     "text": [
      "Using TensorFlow backend.\n"
     ]
    }
   ],
   "source": [
    "import pandas as pd\n",
    "import numpy as np\n",
    "import random\n",
    "from keras import models\n",
    "from keras import layers\n",
    "from keras import optimizers\n",
    "import matplotlib.pyplot as plt\n",
    "from sklearn.model_selection import train_test_split\n",
    "import keras.backend as K\n",
    "from keras.models import Model\n",
    "from keras.models import Sequential\n",
    "from keras.layers import Dense\n",
    "from sklearn.model_selection import StratifiedKFold\n",
    "import numpy as np\n",
    "import sklearn\n",
    "from sklearn import metrics\n",
    "import matplotlib.pyplot as plt"
   ]
  },
  {
   "cell_type": "code",
   "execution_count": 2,
   "metadata": {},
   "outputs": [],
   "source": [
    "def loadDataAsDF(path):\n",
    "    return pd.read_csv(path)"
   ]
  },
  {
   "cell_type": "code",
   "execution_count": 3,
   "metadata": {},
   "outputs": [],
   "source": [
    "def extractTrainAndValidationData(path):\n",
    "    df = loadDataAsDF(path)\n",
    "    df_class_0 = df.loc[df['Class'] == 0]\n",
    "    df_class_1 = pd.concat([df.loc[df['Class'] == 1]]*500, ignore_index=True)\n",
    "    \n",
    "    df_class_0_train = df_class_0[0:int(len(df_class_0)/2)]\n",
    "    df_class_0_val = df_class_0[int(len(df_class_0)/2):]\n",
    "    \n",
    "    df_class_1_train = df_class_1[0:int(len(df_class_1)/2)]\n",
    "    df_class_1_val = df_class_1[int(len(df_class_1)/2):]\n",
    "    return (df_class_0_train, df_class_0_val, df_class_1_train, df_class_1_val)"
   ]
  },
  {
   "cell_type": "code",
   "execution_count": 4,
   "metadata": {},
   "outputs": [],
   "source": [
    "def normalizeDF(df):\n",
    "    return (df - df.mean())/(df.max() - df.min())"
   ]
  },
  {
   "cell_type": "code",
   "execution_count": 5,
   "metadata": {},
   "outputs": [],
   "source": [
    "def randomSample(df, n):\n",
    "    return df.sample(frac=n)"
   ]
  },
  {
   "cell_type": "code",
   "execution_count": 6,
   "metadata": {},
   "outputs": [],
   "source": [
    "def removeTarget(df):\n",
    "    return df.drop(['Class', 'Amount'], axis=1)"
   ]
  },
  {
   "cell_type": "code",
   "execution_count": 7,
   "metadata": {},
   "outputs": [],
   "source": [
    "def createSamples(df_class0, df_class1):\n",
    "    return pd.concat([randomSample(df_class0,1), randomSample(df_class1,1)])"
   ]
  },
  {
   "cell_type": "code",
   "execution_count": 8,
   "metadata": {},
   "outputs": [],
   "source": [
    "def createTrainSample(df_class_0_val, df_class_1_val):\n",
    "    df = createSamples(df_class_0_val, df_class_1_val)\n",
    "    train_without_target = normalizeDF(removeTarget(df))\n",
    "    train_target = df['Class']\n",
    "    return (train_without_target, train_target)"
   ]
  },
  {
   "cell_type": "code",
   "execution_count": 9,
   "metadata": {},
   "outputs": [],
   "source": [
    "def createTestSamples(df_class_0_val, df_class_1_val):\n",
    "    test_df = createSamples(df_class_0_val, df_class_1_val)\n",
    "    test_df_without_target = normalizeDF(removeTarget(test_df))\n",
    "    test_df_target = test_df['Class']\n",
    "    return(test_df_without_target, test_df_target)"
   ]
  },
  {
   "cell_type": "code",
   "execution_count": 10,
   "metadata": {},
   "outputs": [],
   "source": [
    "def runKFold(train_input, train_target, batchSize, epochs):\n",
    "    seed = 7\n",
    "    np.random.seed(seed)\n",
    "    kfold = StratifiedKFold(n_splits=10, shuffle=True, random_state=seed)\n",
    "    cvscores = []\n",
    "    model = Sequential()\n",
    "    model.add(Dense(12, input_dim=29, activation='relu'))\n",
    "    model.add(Dense(8, activation='relu'))\n",
    "    model.add(Dense(1, activation='sigmoid'))\n",
    "    # Compile model\n",
    "    model.compile(loss='binary_crossentropy', optimizer='adam', metrics=['accuracy'])\n",
    "\n",
    "    for train, test in kfold.split(train_input.values, train_target.values):\n",
    "      # create model\n",
    "        # Fit the model\n",
    "        model.fit(train_input.values[train], train_target.values[train], epochs=epochs, batch_size=batchSize, verbose=0)\n",
    "        # evaluate the model\n",
    "        scores = model.evaluate(train_input.values[test], train_target.values[test], verbose=0)\n",
    "        print(\"%s: %.2f%%\" % (model.metrics_names[1], scores[1]*100))\n",
    "        cvscores.append(scores[1] * 100)\n",
    "    print(\"%.2f%% (+/- %.2f%%)\" % (np.mean(cvscores), np.std(cvscores)))\n",
    "    return model"
   ]
  },
  {
   "cell_type": "code",
   "execution_count": 11,
   "metadata": {},
   "outputs": [],
   "source": [
    "def assignClass(x):\n",
    "    if x > 0.25:\n",
    "        return 1\n",
    "    else:\n",
    "        return 0\n",
    "assignClassLamda = np.vectorize(assignClass)"
   ]
  },
  {
   "cell_type": "code",
   "execution_count": 12,
   "metadata": {},
   "outputs": [],
   "source": [
    "def plotRocCurve(fpr, tpr, roc_auc):\n",
    "    plt.title('ROC')\n",
    "    plt.plot(fpr, tpr, 'b', label = 'AUC = %0.2F' % roc_auc)\n",
    "    plt.legend(loc = 'lower right')\n",
    "    plt.plot([0,1],[0,1], 'r--')\n",
    "    plt.xlim([0,1])\n",
    "    plt.ylim([0,1])\n",
    "    plt.ylabel('TPR')\n",
    "    plt.xlabel('FPR')\n",
    "    plt.show()"
   ]
  },
  {
   "cell_type": "code",
   "execution_count": 13,
   "metadata": {},
   "outputs": [
    {
     "name": "stdout",
     "output_type": "stream",
     "text": [
      "acc: 97.61%\n",
      "acc: 99.34%\n",
      "acc: 99.73%\n",
      "acc: 99.79%\n",
      "acc: 99.86%\n",
      "acc: 99.89%\n",
      "acc: 99.92%\n",
      "acc: 99.94%\n",
      "acc: 99.92%\n",
      "acc: 99.92%\n",
      "99.59% (+/- 0.68%)\n"
     ]
    },
    {
     "data": {
      "image/png": "[encoded data removed]",
      "text/plain": [
       "<Figure size 432x288 with 1 Axes>"
      ]
     },
     "metadata": {
      "needs_background": "light"
     },
     "output_type": "display_data"
    }
   ],
   "source": [
    "(df_class_0_train, df_class_0_val, df_class_1_train, df_class_1_val) = extractTrainAndValidationData('./data/creditcard.csv')\n",
    "(train_input, train_target) = createTrainSample(df_class_0_train, df_class_1_train)\n",
    "model = runKFold(train_input, train_target, 1000, 20)\n",
    "(test_df_without_target, test_df_target) = createTestSamples(df_class_0_val, df_class_1_val)\n",
    "predicted_result = assignClassLamda(model.predict(test_df_without_target.values))\n",
    "sklearn.metrics.confusion_matrix(test_df_target.values, predicted_result, labels=None, sample_weight=None)\n",
    "fpr, tpr, threshold = metrics.roc_curve(test_df_target.values, predicted_result)\n",
    "roc_auc = metrics.auc(fpr, tpr)\n",
    "plotRocCurve(fpr, tpr, roc_auc)"
   ]
  },
  {
   "cell_type": "code",
   "execution_count": null,
   "metadata": {},
   "outputs": [],
   "source": []
  },
  {
   "cell_type": "code",
   "execution_count": null,
   "metadata": {},
   "outputs": [],
   "source": []
  },
  {
   "cell_type": "code",
   "execution_count": null,
   "metadata": {},
   "outputs": [],
   "source": []
  },
  {
   "cell_type": "code",
   "execution_count": null,
   "metadata": {},
   "outputs": [],
   "source": []
  }
 ],
 "metadata": {
  "kernelspec": {
   "display_name": "py37",
   "language": "python",
   "name": "py37"
  },
  "language_info": {
   "codemirror_mode": {
    "name": "ipython",
    "version": 3
   },
   "file_extension": ".py",
   "mimetype": "text/x-python",
   "name": "python",
   "nbconvert_exporter": "python",
   "pygments_lexer": "ipython3",
   "version": "3.6.7"
  }
 },
 "nbformat": 4,
 "nbformat_minor": 2
}

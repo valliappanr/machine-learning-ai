{
 "cells": [
  {
   "cell_type": "code",
   "execution_count": 1,
   "metadata": {},
   "outputs": [
    {
     "name": "stderr",
     "output_type": "stream",
     "text": [
      "Using TensorFlow backend.\n"
     ]
    }
   ],
   "source": [
    "import pandas as pd\n",
    "import numpy as np\n",
    "from keras.preprocessing.text import Tokenizer,  text_to_word_sequence\n",
    "from keras.engine.topology import Layer\n",
    "from keras import initializers as initializers, regularizers, constraints\n",
    "from keras.callbacks import Callback, ModelCheckpoint\n",
    "from keras.utils.np_utils import to_categorical\n",
    "from keras.layers import Embedding, Input, Dense, LSTM, GRU, Bidirectional, TimeDistributed, Dropout\n",
    "from keras import backend as K\n",
    "from keras import optimizers\n",
    "from keras.models import Model\n",
    "import nltk\n",
    "import re\n",
    "import matplotlib.pyplot as plt\n",
    "import sys\n",
    "from sklearn.metrics import roc_auc_score\n",
    "from nltk import tokenize\n",
    "import seaborn as sns\n",
    "import os                                                                                                                                               \n",
    "import html\n",
    "from functools import reduce"
   ]
  },
  {
   "cell_type": "code",
   "execution_count": 2,
   "metadata": {},
   "outputs": [],
   "source": [
    "l2_reg = regularizers.l2(1e-13)"
   ]
  },
  {
   "cell_type": "code",
   "execution_count": 3,
   "metadata": {},
   "outputs": [],
   "source": [
    "#source input files path\n",
    "CLAS_PATH='data/imdb_kaggle/'\n",
    "os.makedirs(CLAS_PATH, exist_ok=True)\n",
    "\n",
    "#sentence / field tagging.\n",
    "BOS = 'xbos'  # beginning-of-sentence tag\n",
    "FLD = 'xfld'  # data field tag"
   ]
  },
  {
   "cell_type": "code",
   "execution_count": 4,
   "metadata": {},
   "outputs": [],
   "source": [
    "def product(x, kernel):\n",
    "    return K.squeeze(K.dot(x, K.expand_dims(kernel)), axis=-1)\n",
    "\n",
    "class AttentionContext(Layer):\n",
    "    def __init__(self,\n",
    "                 W_r=None, u_r=None, b_r=None,\n",
    "                 W_c=None, u_c=None, b_c=None,\n",
    "                 bias=True, **kwargs):\n",
    "\n",
    "        self.supports_masking = True\n",
    "        self.init = initializers.get('glorot_uniform')\n",
    "\n",
    "        self.W_r = regularizers.get(W_r)\n",
    "        self.u_r = regularizers.get(u_r)\n",
    "        self.b_r = regularizers.get(b_r)\n",
    "\n",
    "        self.W_c = constraints.get(W_c)\n",
    "        self.u_c = constraints.get(u_c)\n",
    "        self.b_c = constraints.get(b_c)\n",
    "\n",
    "        self.bias = bias\n",
    "        super(AttentionContext, self).__init__(**kwargs)\n",
    "\n",
    "    def build(self, input_shape):\n",
    "        assert len(input_shape) == 3\n",
    "\n",
    "        self.W = self.add_weight((input_shape[-1], input_shape[-1],),\n",
    "                                 initializer=self.init,\n",
    "                                 name='{}_W'.format(self.name),\n",
    "                                 regularizer=self.W_r,\n",
    "                                 constraint=self.W_c)\n",
    "        if self.bias:\n",
    "            self.b = self.add_weight((input_shape[-1],),\n",
    "                                     initializer='zero',\n",
    "                                     name='{}_b'.format(self.name),\n",
    "                                     regularizer=self.b_r,\n",
    "                                     constraint=self.b_c)\n",
    "\n",
    "        self.u = self.add_weight((input_shape[-1],),\n",
    "                                 initializer=self.init,\n",
    "                                 name='{}_u'.format(self.name),\n",
    "                                 regularizer=self.u_r,\n",
    "                                 constraint=self.u_c)\n",
    "\n",
    "        super(AttentionContext, self).build(input_shape)\n",
    "\n",
    "    def compute_mask(self, input, input_mask=None):\n",
    "        # do not pass the mask to the next layers\n",
    "        return None\n",
    "\n",
    "    def call(self, x, mask=None):\n",
    "        uit = product(x, self.W)\n",
    "\n",
    "        if self.bias:\n",
    "            uit += self.b\n",
    "\n",
    "        uit = K.tanh(uit)\n",
    "        ait = product(uit, self.u)\n",
    "\n",
    "        a = K.exp(ait)\n",
    "\n",
    "        if mask is not None:\n",
    "            # Cast the mask to floatX to avoid float64 upcasting in theano\n",
    "            a *= K.cast(mask, K.floatx())\n",
    "\n",
    "        a /= K.cast(K.sum(a, axis=1, keepdims=True) + K.epsilon(), K.floatx())\n",
    "\n",
    "        a = K.expand_dims(a)\n",
    "        weighted_input = x * a\n",
    "        return K.sum(weighted_input, axis=1)\n",
    "\n",
    "    def compute_output_shape(self, input_shape):\n",
    "        return input_shape[0], input_shape[-1]"
   ]
  },
  {
   "cell_type": "code",
   "execution_count": 5,
   "metadata": {},
   "outputs": [],
   "source": [
    "max_vocab=200000\n",
    "max_words_per_sent=40\n",
    "max_senten=10"
   ]
  },
  {
   "cell_type": "code",
   "execution_count": 6,
   "metadata": {},
   "outputs": [],
   "source": [
    "embed_size=200\n",
    "VALIDATION_SPLIT = 0.2"
   ]
  },
  {
   "cell_type": "code",
   "execution_count": 7,
   "metadata": {},
   "outputs": [],
   "source": [
    "re1 = re.compile(r'  +')\n",
    "\n",
    "def fixup(x):\n",
    "    x = x.replace('#39;', \"'\").replace('amp;', '&').replace('#146;', \"'\").replace(\n",
    "        'nbsp;', ' ').replace('#36;', '$').replace('\\\\n', \"\\n\").replace('quot;', \"'\").replace(\n",
    "        '<br />', \"\\n\").replace('\\\\\"', '\"').replace('<unk>','u_n').replace(' @.@ ','.').replace(\n",
    "        ' @-@ ','-').replace('\\\\', ' \\\\ ').replace('#','')\n",
    "    return re1.sub(' ', html.unescape(x))\n",
    "\n",
    "def get_textsFromColumn(df, columnName):\n",
    "    texts = f'\\n{BOS} {FLD} 1 ' + df[columnName].astype(str)\n",
    "    texts = list(texts.apply(fixup).values)\n",
    "    return texts"
   ]
  },
  {
   "cell_type": "code",
   "execution_count": 8,
   "metadata": {},
   "outputs": [],
   "source": [
    "df_trn = pd.read_csv(CLAS_PATH+'/train.tsv',sep='\\t', header=None)\n",
    "df_val = pd.read_csv(CLAS_PATH+'/validation.tsv', sep='\\t', header=None)\n",
    "df_test = pd.read_csv(CLAS_PATH+'/test.tsv', sep='\\t', header=None)"
   ]
  },
  {
   "cell_type": "code",
   "execution_count": 9,
   "metadata": {},
   "outputs": [],
   "source": [
    "trn_texts = get_textsFromColumn(df_trn, 1)\n",
    "val_texts = get_textsFromColumn(df_val, 1)\n",
    "test_texts = get_textsFromColumn(df_test, 1)"
   ]
  },
  {
   "cell_type": "code",
   "execution_count": 10,
   "metadata": {},
   "outputs": [],
   "source": [
    "labels = np.concatenate([df_trn[0], df_val[0]])"
   ]
  },
  {
   "cell_type": "code",
   "execution_count": 11,
   "metadata": {},
   "outputs": [],
   "source": [
    "trn_val_texts = trn_texts + val_texts\n",
    "trn_texts_tok = trn_val_texts + test_texts"
   ]
  },
  {
   "cell_type": "code",
   "execution_count": 12,
   "metadata": {},
   "outputs": [
    {
     "data": {
      "text/plain": [
       "2275"
      ]
     },
     "execution_count": 12,
     "metadata": {},
     "output_type": "execute_result"
    }
   ],
   "source": [
    "len(trn_val_texts[0])"
   ]
  },
  {
   "cell_type": "code",
   "execution_count": 13,
   "metadata": {},
   "outputs": [],
   "source": [
    "trn_tokenizer = Tokenizer(num_words=max_vocab, oov_token=True)\n",
    "trn_tokenizer.fit_on_texts(trn_texts_tok)"
   ]
  },
  {
   "cell_type": "code",
   "execution_count": 14,
   "metadata": {},
   "outputs": [
    {
     "data": {
      "text/plain": [
       "124316"
      ]
     },
     "execution_count": 14,
     "metadata": {},
     "output_type": "execute_result"
    }
   ],
   "source": [
    "len(trn_tokenizer.word_index)"
   ]
  },
  {
   "cell_type": "code",
   "execution_count": 15,
   "metadata": {},
   "outputs": [],
   "source": [
    "paras = [tokenize.sent_tokenize(text) for text in trn_val_texts]"
   ]
  },
  {
   "cell_type": "code",
   "execution_count": 16,
   "metadata": {},
   "outputs": [],
   "source": [
    "def generateSubmission(df, predictValues, csvFile):\n",
    "    result_df = pd.DataFrame(columns = ['id', 'label'])\n",
    "    result_df['id'] = df[0]\n",
    "    result_df['label'] = predictValues\n",
    "    result_df.to_csv(csvFile, index=False)"
   ]
  },
  {
   "cell_type": "code",
   "execution_count": 17,
   "metadata": {},
   "outputs": [],
   "source": [
    "def generateEmbeddings(texts, max_senten, max_words_per_sent):\n",
    "    data = np.zeros((len(texts), max_senten, max_words_per_sent), dtype='int32')\n",
    "    for i, sentences in enumerate(paras):\n",
    "        for j, sent in enumerate(sentences):\n",
    "            if j< max_senten:\n",
    "                wordTokens = text_to_word_sequence(sent)\n",
    "                k=0\n",
    "                for _, word in enumerate(wordTokens):\n",
    "                    tokenIndex = trn_tokenizer.word_index[word]\n",
    "                    try:\n",
    "                        if k<max_words_per_sent and trn_tokenizer.word_index[word]<max_vocab:\n",
    "                            data[i,j,k] = trn_tokenizer.word_index[word]\n",
    "                            k=k+1\n",
    "                    except Exception as e:\n",
    "                        print(str(e))\n",
    "                        #print(f'missing word:{word}')\n",
    "                        pass\n",
    "    return data\n",
    "data = generateEmbeddings(trn_val_texts, max_senten, max_words_per_sent)"
   ]
  },
  {
   "cell_type": "code",
   "execution_count": 18,
   "metadata": {},
   "outputs": [
    {
     "name": "stdout",
     "output_type": "stream",
     "text": [
      "Total 124316 unique tokens.\n"
     ]
    }
   ],
   "source": [
    "word_index = trn_tokenizer.word_index\n",
    "print('Total %s unique tokens.' % len(word_index))"
   ]
  },
  {
   "cell_type": "code",
   "execution_count": 19,
   "metadata": {},
   "outputs": [
    {
     "name": "stdout",
     "output_type": "stream",
     "text": [
      "Total 400000 word vectors.\n"
     ]
    }
   ],
   "source": [
    "def extractWordAndEmbedding(line):\n",
    "    wordAndEmbedding = line.split()\n",
    "    word = wordAndEmbedding[0]\n",
    "    embedding = np.asarray(wordAndEmbedding[1:], dtype='float32')\n",
    "    return (word, embedding)\n",
    "    \n",
    "GLOVE_DIR = \"data/embedding/glove.6B.200d.txt\"\n",
    "embeddings_index = {}\n",
    "f = open(GLOVE_DIR)\n",
    "for line in f:\n",
    "    try:\n",
    "        (word, embedding) = extractWordAndEmbedding(line)\n",
    "        embeddings_index[word] = embedding\n",
    "    except:\n",
    "        print(word)\n",
    "        pass\n",
    "f.close()\n",
    "print('Total %s word vectors.' % len(embeddings_index))"
   ]
  },
  {
   "cell_type": "code",
   "execution_count": 20,
   "metadata": {},
   "outputs": [
    {
     "name": "stdout",
     "output_type": "stream",
     "text": [
      "Total absent words are 49203 which is 39.58 % of total words\n"
     ]
    }
   ],
   "source": [
    "embedding_matrix = np.zeros((len(word_index) + 1, embed_size))\n",
    "absent_words = 0\n",
    "for word, i in word_index.items():\n",
    "    embedding_vector = embeddings_index.get(word)\n",
    "    if embedding_vector is not None:\n",
    "        # words not found in embedding index will be all-zeros.\n",
    "        embedding_matrix[i] = embedding_vector\n",
    "    else:\n",
    "        absent_words += 1\n",
    "print('Total absent words are', absent_words, 'which is', \"%0.2f\" % (absent_words * 100 / len(word_index)), '% of total words')"
   ]
  },
  {
   "cell_type": "code",
   "execution_count": 21,
   "metadata": {},
   "outputs": [],
   "source": [
    "indices = np.arange(data.shape[0])\n",
    "np.random.shuffle(indices)\n",
    "data = data[indices]\n",
    "labels = labels[indices]\n",
    "nb_validation_samples = int(VALIDATION_SPLIT * data.shape[0])"
   ]
  },
  {
   "cell_type": "code",
   "execution_count": 22,
   "metadata": {},
   "outputs": [
    {
     "name": "stdout",
     "output_type": "stream",
     "text": [
      "Number of positive and negative reviews in traing and validation set\n",
      "[1 1 1 ... 0 1 1]\n",
      "[0 1 1 ... 1 0 0]\n"
     ]
    }
   ],
   "source": [
    "x_train = data[:-nb_validation_samples]\n",
    "y_train = labels[:-nb_validation_samples]\n",
    "x_val = data[-nb_validation_samples:]\n",
    "y_val = labels[-nb_validation_samples:]\n",
    "print('Number of positive and negative reviews in traing and validation set')\n",
    "print(y_train)\n",
    "print(y_val)"
   ]
  },
  {
   "cell_type": "code",
   "execution_count": 23,
   "metadata": {},
   "outputs": [
    {
     "data": {
      "text/plain": [
       "124316"
      ]
     },
     "execution_count": 23,
     "metadata": {},
     "output_type": "execute_result"
    }
   ],
   "source": [
    "len(word_index)"
   ]
  },
  {
   "cell_type": "code",
   "execution_count": 24,
   "metadata": {},
   "outputs": [],
   "source": [
    "embedding_layer = Embedding(len(word_index) + 1,embed_size,weights=[embedding_matrix], input_length=max_words_per_sent, trainable=False)"
   ]
  },
  {
   "cell_type": "code",
   "execution_count": 25,
   "metadata": {},
   "outputs": [],
   "source": [
    "word_input = Input(shape=(max_words_per_sent,), dtype='float32')\n",
    "word_sequences = embedding_layer(word_input)\n",
    "word_lstm = Bidirectional(LSTM(150, return_sequences=True, kernel_regularizer=l2_reg))(word_sequences)\n",
    "word_dense = TimeDistributed(Dense(200, kernel_regularizer=l2_reg))(word_lstm)\n",
    "word_att = AttentionContext()(word_dense)\n",
    "wordEncoder = Model(word_input, word_att)\n",
    "\n",
    "sent_input = Input(shape=(max_senten, max_words_per_sent), dtype='float32')\n",
    "sent_encoder = TimeDistributed(wordEncoder)(sent_input)\n",
    "sent_lstm = Bidirectional(LSTM(150, return_sequences=True, kernel_regularizer=l2_reg))(sent_encoder)\n",
    "sent_dense = TimeDistributed(Dense(200, kernel_regularizer=l2_reg))(sent_lstm)\n",
    "sent_att = Dropout(0.5)(AttentionContext()(sent_dense))\n",
    "non_lin = Dense(8, activation='relu')(sent_att)\n",
    "preds = Dense(1, activation='sigmoid')(non_lin)\n",
    "model = Model(sent_input, preds)\n",
    "model.compile(loss='binary_crossentropy',optimizer='adam',metrics=['acc'])"
   ]
  },
  {
   "cell_type": "code",
   "execution_count": 26,
   "metadata": {},
   "outputs": [
    {
     "name": "stdout",
     "output_type": "stream",
     "text": [
      "_________________________________________________________________\n",
      "Layer (type)                 Output Shape              Param #   \n",
      "=================================================================\n",
      "input_2 (InputLayer)         (None, 10, 40)            0         \n",
      "_________________________________________________________________\n",
      "time_distributed_2 (TimeDist (None, 10, 200)           25385200  \n",
      "_________________________________________________________________\n",
      "bidirectional_2 (Bidirection (None, 10, 300)           421200    \n",
      "_________________________________________________________________\n",
      "time_distributed_3 (TimeDist (None, 10, 200)           60200     \n",
      "_________________________________________________________________\n",
      "attention_context_2 (Attenti (None, 200)               40400     \n",
      "_________________________________________________________________\n",
      "dropout_1 (Dropout)          (None, 200)               0         \n",
      "_________________________________________________________________\n",
      "dense_3 (Dense)              (None, 8)                 1608      \n",
      "_________________________________________________________________\n",
      "dense_4 (Dense)              (None, 1)                 9         \n",
      "=================================================================\n",
      "Total params: 25,908,617\n",
      "Trainable params: 1,045,217\n",
      "Non-trainable params: 24,863,400\n",
      "_________________________________________________________________\n"
     ]
    }
   ],
   "source": [
    "model.summary()\n",
    "checkpoint = ModelCheckpoint('best_model4.h5', verbose=0, monitor='val_loss',save_best_only=True, mode='auto')"
   ]
  },
  {
   "cell_type": "code",
   "execution_count": 27,
   "metadata": {},
   "outputs": [
    {
     "name": "stdout",
     "output_type": "stream",
     "text": [
      "Train on 20000 samples, validate on 5000 samples\n",
      "Epoch 1/10\n",
      "20000/20000 [==============================] - 21s 1ms/step - loss: 0.5795 - acc: 0.6658 - val_loss: 0.4062 - val_acc: 0.8182\n",
      "Epoch 2/10\n",
      "20000/20000 [==============================] - 18s 904us/step - loss: 0.3860 - acc: 0.8326 - val_loss: 0.3743 - val_acc: 0.8374\n",
      "Epoch 3/10\n",
      "20000/20000 [==============================] - 18s 909us/step - loss: 0.3484 - acc: 0.8504 - val_loss: 0.3516 - val_acc: 0.8436\n",
      "Epoch 4/10\n",
      "20000/20000 [==============================] - 18s 910us/step - loss: 0.3228 - acc: 0.8625 - val_loss: 0.3600 - val_acc: 0.8440\n",
      "Epoch 5/10\n",
      "20000/20000 [==============================] - 18s 908us/step - loss: 0.2987 - acc: 0.8757 - val_loss: 0.3460 - val_acc: 0.8490\n",
      "Epoch 6/10\n",
      "20000/20000 [==============================] - 18s 914us/step - loss: 0.2849 - acc: 0.8828 - val_loss: 0.3515 - val_acc: 0.8520\n",
      "Epoch 7/10\n",
      "20000/20000 [==============================] - 18s 913us/step - loss: 0.2516 - acc: 0.8993 - val_loss: 0.3491 - val_acc: 0.8492\n",
      "Epoch 8/10\n",
      "20000/20000 [==============================] - 18s 912us/step - loss: 0.2398 - acc: 0.9035 - val_loss: 0.3838 - val_acc: 0.8476\n",
      "Epoch 9/10\n",
      "20000/20000 [==============================] - 18s 911us/step - loss: 0.2119 - acc: 0.9142 - val_loss: 0.3551 - val_acc: 0.8514\n",
      "Epoch 10/10\n",
      "20000/20000 [==============================] - 18s 910us/step - loss: 0.1933 - acc: 0.9252 - val_loss: 0.3794 - val_acc: 0.8484\n"
     ]
    }
   ],
   "source": [
    "history = model.fit(x_train, y_train, validation_data=(x_val, y_val), epochs=10, batch_size=100, callbacks=[checkpoint])"
   ]
  },
  {
   "cell_type": "code",
   "execution_count": 28,
   "metadata": {},
   "outputs": [],
   "source": [
    "data_test = generateEmbeddings(test_texts, max_senten, max_words_per_sent)"
   ]
  },
  {
   "cell_type": "code",
   "execution_count": 29,
   "metadata": {},
   "outputs": [],
   "source": [
    "preds = model.predict(data_test)"
   ]
  },
  {
   "cell_type": "code",
   "execution_count": 30,
   "metadata": {},
   "outputs": [],
   "source": [
    "preds1 = np.where(preds > 0.5,1, 0)"
   ]
  },
  {
   "cell_type": "code",
   "execution_count": 31,
   "metadata": {},
   "outputs": [],
   "source": [
    "generateSubmission(df_test, preds1, 'submission_han.csv')"
   ]
  },
  {
   "cell_type": "code",
   "execution_count": null,
   "metadata": {},
   "outputs": [],
   "source": []
  }
 ],
 "metadata": {
  "kernelspec": {
   "display_name": "Python [conda env:py37]",
   "language": "python",
   "name": "conda-env-py37-py"
  },
  "language_info": {
   "codemirror_mode": {
    "name": "ipython",
    "version": 3
   },
   "file_extension": ".py",
   "mimetype": "text/x-python",
   "name": "python",
   "nbconvert_exporter": "python",
   "pygments_lexer": "ipython3",
   "version": "3.6.7"
  }
 },
 "nbformat": 4,
 "nbformat_minor": 2
}
